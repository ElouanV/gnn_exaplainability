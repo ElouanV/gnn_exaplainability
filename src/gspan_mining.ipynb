{
 "cells": [
  {
   "cell_type": "code",
   "execution_count": 1,
   "metadata": {
    "ExecuteTime": {
     "end_time": "2023-06-05T06:39:25.521927692Z",
     "start_time": "2023-06-05T06:39:20.997289117Z"
    }
   },
   "outputs": [],
   "source": [
    "import networkx as nx\n",
    "from ego_graph_dataset import select_active_graph\n",
    "from tqdm import tqdm\n",
    "import pandas as pd\n",
    "import os\n",
    "from utils import scores2coalition, PlotUtils\n",
    "from torch_geometric.utils import to_networkx, from_networkx\n",
    "import matplotlib.pyplot as plt\n",
    "import utils\n",
    "from gspan_mine.gspan_mining.config import parser\n",
    "from gspan_mine.gspan_mining.main import main"
   ]
  },
  {
   "cell_type": "code",
   "execution_count": 9,
   "metadata": {
    "ExecuteTime": {
     "end_time": "2023-06-05T06:48:20.017113039Z",
     "start_time": "2023-06-05T06:48:20.007122833Z"
    }
   },
   "outputs": [],
   "source": [
    "# Build the graph.data file for a given rule\n",
    "def build_graph_data(dataset='mutagenicity' ,rule=1, metric='entropy', node_selection='fixed_size', nb_graphs=2923):\n",
    "    graphs = select_active_graph(f'./activ_ego/mutag_{rule}labels_egos.txt', 2,0,[])\n",
    "    skipped_index = []\n",
    "    with open(f'results/{dataset}_{rule}_{metric}_{node_selection}.data', 'w+') as f:\n",
    "        for i in tqdm(range(nb_graphs)):\n",
    "            graph = to_networkx(graphs[i], to_undirected=True, node_attrs=['center', 'x'])\n",
    "            df_node_score = pd.read_csv(os.path.join(\"./results/mutagenicity/gcn/gstarx\",\n",
    "                             f\"rule_{rule}/result_{dataset}_{rule}_{i}.csv\"))\n",
    "            if df_node_score is None or len(df_node_score) == 0:\n",
    "                skipped_index.append(i)\n",
    "                continue\n",
    "            node_score = df_node_score[metric].values\n",
    "            coalition = scores2coalition(node_score, sparsity=0.5, fixed_size=True, size=3)\n",
    "            # If the node that has the label 'center' to True in the graph is not in the coalition, add it\n",
    "            for node in graph.nodes():\n",
    "                if graph.nodes[node]['center'] and node not in coalition:\n",
    "                    coalition.append(node)\n",
    "            # Select the subgraph induce by the coalition\n",
    "            subgraph = graph.subgraph(coalition)\n",
    "            f.write(f't # {i}\\n')\n",
    "            for node in subgraph.nodes():\n",
    "                f.write(f'v {int(node)} {graph.nodes[node][\"x\"]}\\n')\n",
    "            for edge in subgraph.edges():\n",
    "                f.write(f'e {int(edge[0])} {int(edge[1])} 0\\n')\n",
    "    print(f\"Skipped {len(skipped_index)} graphs\")"
   ]
  },
  {
   "cell_type": "code",
   "execution_count": 10,
   "metadata": {
    "ExecuteTime": {
     "end_time": "2023-06-05T06:48:20.543261904Z",
     "start_time": "2023-06-05T06:48:20.352084701Z"
    }
   },
   "outputs": [],
   "source": [
    "# Build the graph.data file for a given rule\n",
    "def build_graph_data_neighbors(dataset='mutagenicity' ,rule=1, metric='entropy', node_selection='fixed_size',nb_graph=2923):\n",
    "    graphs = select_active_graph(f'./activ_ego/mutag_{rule}labels_egos.txt', 2,0,[])\n",
    "    skipped_index = []\n",
    "    with open(f'results/{dataset}_{rule}_{metric}_{node_selection}_with_neighbors.data', 'w+') as f:\n",
    "        for i in tqdm(range(nb_graph)):\n",
    "            graph = to_networkx(graphs[i], to_undirected=True, node_attrs=['center', 'x'])\n",
    "            df_node_score = pd.read_csv(os.path.join(\"./results/mutagenicity/gcn/gstarx\",\n",
    "                             f\"rule_{rule}/result_{dataset}_{rule}_{i}.csv\"))\n",
    "            if df_node_score is None or len(df_node_score) == 0:\n",
    "                skipped_index.append(i)\n",
    "                continue\n",
    "            node_score = df_node_score[metric].values\n",
    "            coalition = scores2coalition(node_score, sparsity=0.5, fixed_size=True, size=3)\n",
    "            # If the node that has the label 'center' to True in the graph is not in the coalition, add it\n",
    "            for node in graph.nodes():\n",
    "                if graph.nodes[node]['center'] and node not in coalition:\n",
    "                    coalition.append(node)\n",
    "            # Select the subgraph induce by the coalition\n",
    "            # Add direct neighbors of the coalition to the coalition without adding nodes that are already in the coalition\n",
    "            for node in coalition:\n",
    "                for neighbor in graph.neighbors(node):\n",
    "                    if neighbor not in coalition:\n",
    "                        coalition.append(neighbor)\n",
    "            subgraph = graph.subgraph(coalition)\n",
    "            f.write(f't # {i}\\n')\n",
    "            for node in subgraph.nodes():\n",
    "                f.write(f'v {int(node)} {graph.nodes[node][\"x\"]}\\n')\n",
    "            for edge in subgraph.edges():\n",
    "                f.write(f'e {int(edge[0])} {int(edge[1])} 0\\n')\n",
    "    print(f\"Skipped {len(skipped_index)} graphs\")"
   ]
  },
  {
   "cell_type": "code",
   "execution_count": 11,
   "outputs": [],
   "source": [
    "RULE = 1\n",
    "DATASET = 'mutagenicity'\n",
    "METRIC = 'entropy'\n",
    "NODE_SELECTION = 'split_top'\n",
    "WITH_NEIGHBORS = True"
   ],
   "metadata": {
    "collapsed": false,
    "ExecuteTime": {
     "end_time": "2023-06-05T06:48:20.917743970Z",
     "start_time": "2023-06-05T06:48:20.715009689Z"
    }
   }
  },
  {
   "cell_type": "code",
   "execution_count": 12,
   "metadata": {
    "ExecuteTime": {
     "end_time": "2023-06-05T06:48:36.259593084Z",
     "start_time": "2023-06-05T06:48:21.025713711Z"
    }
   },
   "outputs": [
    {
     "name": "stdout",
     "output_type": "stream",
     "text": [
      "Number of graphs: 2923\n"
     ]
    },
    {
     "name": "stderr",
     "output_type": "stream",
     "text": [
      "100%|██████████| 2923/2923 [00:14<00:00, 208.09it/s]"
     ]
    },
    {
     "name": "stdout",
     "output_type": "stream",
     "text": [
      "Skipped 14 graphs\n"
     ]
    },
    {
     "name": "stderr",
     "output_type": "stream",
     "text": [
      "\n"
     ]
    }
   ],
   "source": [
    "if WITH_NEIGHBORS:\n",
    "    build_graph_data_neighbors(DATASET, RULE, METRIC, NODE_SELECTION)\n",
    "else:\n",
    "    build_graph_data(DATASET, RULE, METRIC, NODE_SELECTION)"
   ]
  },
  {
   "cell_type": "code",
   "execution_count": 15,
   "outputs": [
    {
     "name": "stdout",
     "output_type": "stream",
     "text": [
      "t # 0\n",
      "v 0 0\n",
      "v 1 4\n",
      "e 0 1 0\n",
      "\n",
      "Support: 2811\n"
     ]
    },
    {
     "data": {
      "text/plain": "<Figure size 200x200 with 1 Axes>",
      "image/png": "[encoded data removed]"
     },
     "metadata": {},
     "output_type": "display_data"
    },
    {
     "name": "stdout",
     "output_type": "stream",
     "text": [
      "\n",
      "-----------------\n",
      "\n",
      "t # 1\n",
      "v 0 0\n",
      "v 1 0\n",
      "e 0 1 0\n",
      "\n",
      "Support: 2554\n"
     ]
    },
    {
     "data": {
      "text/plain": "<Figure size 200x200 with 1 Axes>",
      "image/png": "[encoded data removed]"
     },
     "metadata": {},
     "output_type": "display_data"
    },
    {
     "name": "stdout",
     "output_type": "stream",
     "text": [
      "\n",
      "-----------------\n",
      "\n",
      "t # 2\n",
      "v 0 0\n",
      "v 1 0\n",
      "v 2 4\n",
      "e 0 1 0\n",
      "e 1 2 0\n",
      "\n",
      "Support: 2478\n"
     ]
    },
    {
     "data": {
      "text/plain": "<Figure size 300x300 with 1 Axes>",
      "image/png": "[encoded data removed]"
     },
     "metadata": {},
     "output_type": "display_data"
    },
    {
     "name": "stdout",
     "output_type": "stream",
     "text": [
      "\n",
      "-----------------\n",
      "\n",
      "t # 3\n",
      "v 0 0\n",
      "v 1 0\n",
      "v 2 0\n",
      "e 0 1 0\n",
      "e 1 2 0\n",
      "\n",
      "Support: 2554\n"
     ]
    },
    {
     "data": {
      "text/plain": "<Figure size 300x300 with 1 Axes>",
      "image/png": "[encoded data removed]"
     },
     "metadata": {},
     "output_type": "display_data"
    },
    {
     "name": "stdout",
     "output_type": "stream",
     "text": [
      "\n",
      "-----------------\n",
      "\n",
      "t # 4\n",
      "v 0 0\n",
      "v 1 0\n",
      "v 2 0\n",
      "v 3 4\n",
      "e 0 1 0\n",
      "e 1 2 0\n",
      "e 1 3 0\n",
      "\n",
      "Support: 2478\n"
     ]
    },
    {
     "data": {
      "text/plain": "<Figure size 400x400 with 1 Axes>",
      "image/png": "[encoded data removed]"
     },
     "metadata": {},
     "output_type": "display_data"
    },
    {
     "name": "stdout",
     "output_type": "stream",
     "text": [
      "\n",
      "-----------------\n",
      "\n",
      "Read:\t0.08 s\n",
      "Mine:\t1.71 s\n",
      "Total:\t1.79 s\n"
     ]
    }
   ],
   "source": [
    "min_support = int(2923 *0.8)\n",
    "args_str = f'-s {min_support} -p True ./results/{DATASET}_{RULE}_{METRIC}_{NODE_SELECTION}{\"_with_neighbors\" if WITH_NEIGHBORS else \"\"}.data'\n",
    "FLAGS, _ = parser.parse_known_args(args=args_str.split())\n",
    "gs = main(FLAGS)"
   ],
   "metadata": {
    "collapsed": false,
    "ExecuteTime": {
     "end_time": "2023-06-05T06:49:30.116457581Z",
     "start_time": "2023-06-05T06:49:28.281909496Z"
    }
   }
  },
  {
   "cell_type": "code",
   "execution_count": null,
   "outputs": [],
   "source": [],
   "metadata": {
    "collapsed": false
   }
  }
 ],
 "metadata": {
  "kernelspec": {
   "display_name": "Python 3 (ipykernel)",
   "language": "python",
   "name": "python3"
  },
  "language_info": {
   "codemirror_mode": {
    "name": "ipython",
    "version": 3
   },
   "file_extension": ".py",
   "mimetype": "text/x-python",
   "name": "python",
   "nbconvert_exporter": "python",
   "pygments_lexer": "ipython3",
   "version": "3.8.10"
  }
 },
 "nbformat": 4,
 "nbformat_minor": 1
}
